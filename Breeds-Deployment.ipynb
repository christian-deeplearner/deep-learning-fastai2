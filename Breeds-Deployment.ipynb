{
 "cells": [
  {
   "cell_type": "code",
   "execution_count": 2,
   "metadata": {},
   "outputs": [],
   "source": [
    "from fastai2.vision.all import *\n",
    "from fastai2.vision.widgets import *\n",
    "import time"
   ]
  },
  {
   "cell_type": "code",
   "execution_count": 3,
   "metadata": {},
   "outputs": [],
   "source": [
    "path = Path(\".\")"
   ]
  },
  {
   "cell_type": "code",
   "execution_count": 4,
   "metadata": {},
   "outputs": [],
   "source": [
    "import os\n",
    "if not os.path.exists('feedback'):\n",
    "    os.makedirs('feedback')"
   ]
  },
  {
   "cell_type": "code",
   "execution_count": 5,
   "metadata": {},
   "outputs": [],
   "source": [
    "learn_inf = load_learner(path/'breeds-model-1.pkl')"
   ]
  },
  {
   "cell_type": "code",
   "execution_count": 6,
   "metadata": {},
   "outputs": [],
   "source": [
    "run_button = widgets.Button(description=\"Classify\")"
   ]
  },
  {
   "cell_type": "code",
   "execution_count": 7,
   "metadata": {},
   "outputs": [],
   "source": [
    "out_pl = widgets.Output()\n",
    "out_pl.clear_output()"
   ]
  },
  {
   "cell_type": "code",
   "execution_count": 8,
   "metadata": {},
   "outputs": [],
   "source": [
    "label_prediction = widgets.Label()"
   ]
  },
  {
   "cell_type": "code",
   "execution_count": 9,
   "metadata": {},
   "outputs": [],
   "source": [
    "feedback_button = widgets.Button(description=\"Click for feedback!\")\n",
    "\n",
    "vocab = learn_inf.dls.vocab\n",
    "\n",
    "dropdown = widgets.Dropdown(\n",
    "    options=vocab,\n",
    "    value=vocab[0],\n",
    "    description='Breed:',\n",
    "    disabled=False,\n",
    ")\n",
    "\n",
    "\n",
    "save_correction_button = widgets.Button(description=\"Save feedback!\")\n",
    "\n",
    "output_step_1 = widgets.Output()\n",
    "output_step_2 = widgets.Output()\n",
    "\n",
    "def on_feedback_clicked(b):\n",
    "    output_step_1.clear_output()\n",
    "    with output_step_1:\n",
    "        display(widgets.Label(\"Select the correct breed\"))\n",
    "        display(dropdown)\n",
    "        display(save_correction_button, output_step_2)\n",
    "        \n",
    "\n",
    "def on_button_save(b):\n",
    "    timestr = time.strftime(\"%Y%m%d-%H%M%S\")\n",
    "    correct_value = dropdown.value\n",
    "    corrected_image_name = f'{correct_value}_{timestr}.JPEG'\n",
    "    feedback_path = path/\"feedback\"\n",
    "    \n",
    "    img = PILImage.create(btn_upload.data[-1])\n",
    "    img.save(feedback_path/corrected_image_name)\n",
    "    output_step_2.clear_output()\n",
    "    with output_step_2:\n",
    "        display(widgets.Label(\"Feedback saved!\"))\n",
    "        \n",
    "        \n",
    "feedback_button.on_click(on_feedback_clicked)\n",
    "save_correction_button.on_click(on_button_save)"
   ]
  },
  {
   "cell_type": "code",
   "execution_count": 10,
   "metadata": {},
   "outputs": [],
   "source": [
    "def on_click_classify(change):\n",
    "    img = PILImage.create(btn_upload.data[-1])\n",
    "    out_pl.clear_output()\n",
    "    with out_pl: display(img.to_thumb(128, 128))\n",
    "    pred, pred_idx, probs = learn_inf.predict(img)\n",
    "    label_prediction.value = f'Prediction: {pred}; Probability: {probs[pred_idx]:.04f}'\n",
    "    display(feedback_button, output_step_1)\n",
    "\n",
    "run_button.on_click(on_click_classify)"
   ]
  },
  {
   "cell_type": "code",
   "execution_count": 11,
   "metadata": {},
   "outputs": [],
   "source": [
    "btn_upload = widgets.FileUpload()"
   ]
  },
  {
   "cell_type": "code",
   "execution_count": 12,
   "metadata": {},
   "outputs": [
    {
     "data": {
      "application/vnd.jupyter.widget-view+json": {
       "model_id": "89464b0dc4b44579abc9e2394a0dfc44",
       "version_major": 2,
       "version_minor": 0
      },
      "text/plain": [
       "VBox(children=(Label(value='Upload your animal picture to find out its breed'), FileUpload(value={}, descripti…"
      ]
     },
     "metadata": {},
     "output_type": "display_data"
    },
    {
     "data": {
      "text/html": [],
      "text/plain": [
       "<IPython.core.display.HTML object>"
      ]
     },
     "metadata": {},
     "output_type": "display_data"
    },
    {
     "data": {
      "application/vnd.jupyter.widget-view+json": {
       "model_id": "954dcc982b9143ebbb2debcf14729870",
       "version_major": 2,
       "version_minor": 0
      },
      "text/plain": [
       "Button(description='Click for feedback!', style=ButtonStyle())"
      ]
     },
     "metadata": {},
     "output_type": "display_data"
    },
    {
     "data": {
      "application/vnd.jupyter.widget-view+json": {
       "model_id": "df5e9ebce5cc4a019120442e0bb33284",
       "version_major": 2,
       "version_minor": 0
      },
      "text/plain": [
       "Output()"
      ]
     },
     "metadata": {},
     "output_type": "display_data"
    }
   ],
   "source": [
    "VBox([widgets.Label(\"Upload your animal picture to find out its breed\"),\n",
    "     btn_upload, run_button, out_pl, label_prediction])"
   ]
  },
  {
   "cell_type": "code",
   "execution_count": null,
   "metadata": {},
   "outputs": [],
   "source": []
  },
  {
   "cell_type": "code",
   "execution_count": null,
   "metadata": {},
   "outputs": [],
   "source": []
  }
 ],
 "metadata": {
  "kernelspec": {
   "display_name": "Python 3",
   "language": "python",
   "name": "python3"
  },
  "language_info": {
   "codemirror_mode": {
    "name": "ipython",
    "version": 3
   },
   "file_extension": ".py",
   "mimetype": "text/x-python",
   "name": "python",
   "nbconvert_exporter": "python",
   "pygments_lexer": "ipython3",
   "version": "3.7.6"
  }
 },
 "nbformat": 4,
 "nbformat_minor": 4
}
